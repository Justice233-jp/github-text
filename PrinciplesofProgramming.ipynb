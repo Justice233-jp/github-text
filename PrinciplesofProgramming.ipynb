{
  "nbformat": 4,
  "nbformat_minor": 0,
  "metadata": {
    "colab": {
      "provenance": [],
      "include_colab_link": true
    },
    "kernelspec": {
      "name": "python3",
      "display_name": "Python 3"
    },
    "language_info": {
      "name": "python"
    }
  },
  "cells": [
    {
      "cell_type": "markdown",
      "metadata": {
        "id": "view-in-github",
        "colab_type": "text"
      },
      "source": [
        "<a href=\"https://colab.research.google.com/github/Justice233-jp/github-text/blob/main/PrinciplesofProgramming.ipynb\" target=\"_parent\"><img src=\"https://colab.research.google.com/assets/colab-badge.svg\" alt=\"Open In Colab\"/></a>"
      ]
    },
    {
      "cell_type": "code",
      "execution_count": null,
      "metadata": {
        "id": "M5nFhSGSovFd",
        "collapsed": true,
        "colab": {
          "base_uri": "https://localhost:8080/"
        },
        "outputId": "1d429c53-6a5d-4122-afee-b8bbbced8b88"
      },
      "outputs": [
        {
          "output_type": "stream",
          "name": "stdout",
          "text": [
            "1\n",
            "Indicate where you were born: Tdi\n",
            "Which year were you born in? 2343\n",
            "You are  -318  years old. And you were born in  Tdi\n",
            "In 10 years you will be -308 years old. And you were born in Tdi\n"
          ]
        }
      ],
      "source": [
        "# How to Output data in Python\n",
        "# Anything in quotes is called a String\n",
        "# A number without a decimal point is called an int (Integer)\n",
        "# A number with decimal points is a float (Floating Point Number)\n",
        "# The # is used to indicate a comment which the interpreter ignores. Comments are for human beings.\n",
        "# We use the type() to find the class or datatype of a piece of data\n",
        "# Anything with () infront of it is called a function\n",
        "# We use the print() to print out data\n",
        "# We can do simple calculations inside the print() function\n",
        "# Python respects the BODMAS/PEMDAS rules and uses () to indicate groupings of code\n",
        "# +, -, *, /, %, ** are called Mathematical Operators\n",
        "# There are various other kinds of operators including logical operators, bitwise operators etc.\n",
        "# data can be named with variables\n",
        "# You can use len() to find the length of strings and collection datatypes(list, tuple, dictionary)\n",
        "#You cannot find the length of integers or other numbers\n",
        "# You can use input() to receive data from the user\n",
        "#Th input() returns a string\n",
        "# You can cast a string into an int using the int()\n",
        "# You can also cast a string into a float using the float()\n",
        "# You can print out strings and numbers if you separate them with commas\n",
        "# You can use the the formatted print i.e. print(f'') to print out strings and numbers. Variables and calculations in this case are surrounded by curly brackets {}.\n",
        "\n",
        "\n",
        "\n",
        "ans = 5 % 2\n",
        "print(ans)\n",
        "type(ans)\n",
        "#len(ans)\n",
        "# ans1 = \"Kofi\"\n",
        "# len(ans1) # len() gives us the length or number of items in a data\n",
        "\n",
        "# This program asks for your date of birth and calculates your age\n",
        "# ask for dob   x =  input('Put your date of birth here:')\n",
        "# calculate age  age = 2025 - x\n",
        "placeofbirth = input(\"Indicate where you were born: \")\n",
        "dob = input(\"Which year were you born in? \")\n",
        "dob = int(dob) # this line will convert dob from str to int\n",
        "# print(type(2025))\n",
        "# print(type(dob))\n",
        "# print(type(age))\n",
        "age = 2025-dob\n",
        "print(\"You are \" , age , \" years old. And you were born in \", placeofbirth )\n",
        "print(f\"In 10 years you will be {2035-dob} years old. And you were born in {placeofbirth}\")"
      ]
    },
    {
      "cell_type": "code",
      "source": [
        "def function_name():\n",
        "    \"\"\"This is a docstring explaining what the function does.\"\"\"\n",
        "    pass\n",
        "\n"
      ],
      "metadata": {
        "id": "7TMJL7GSrKAm"
      },
      "execution_count": null,
      "outputs": []
    },
    {
      "cell_type": "code",
      "source": [
        "def add(a, b):\n",
        "    '''Returns the sum of a and b.'''\n",
        "    return a + b\n"
      ],
      "metadata": {
        "id": "XD38GESJyYsl"
      },
      "execution_count": null,
      "outputs": []
    },
    {
      "cell_type": "code",
      "source": [
        "def greet(name):\n",
        "    \"\"\"\n",
        "    This function greets the person whose name is passed as an argument.\n",
        "\n",
        "    Parameters:\n",
        "    name (str): The name of the person to greet.\n",
        "\n",
        "    Returns:\n",
        "    None\n",
        "    \"\"\"\n",
        "    print(f\"Hello, {name}!\")\n"
      ],
      "metadata": {
        "id": "cSbF1bHhyfiy"
      },
      "execution_count": null,
      "outputs": []
    },
    {
      "cell_type": "code",
      "source": [
        "def subtract(num1, num2):\n",
        "  '''This function subtracts the num2 from num1 and returns the answer.\n",
        "    Example\n",
        "    subtract(3, 2)  This will calculate 3-2 and return the answer 1\n",
        "    The parameters must be numerical\n",
        "  '''\n",
        "  a = num1 - num2\n",
        "  return a"
      ],
      "metadata": {
        "id": "rjZYmpUc_KnJ"
      },
      "execution_count": null,
      "outputs": []
    },
    {
      "cell_type": "code",
      "source": [
        "subtract(45000, 5500)"
      ],
      "metadata": {
        "colab": {
          "base_uri": "https://localhost:8080/"
        },
        "id": "-s-2sFkrBbKy",
        "outputId": "c6ccac0d-1350-40a6-f23a-c0cf7383a821"
      },
      "execution_count": null,
      "outputs": [
        {
          "output_type": "execute_result",
          "data": {
            "text/plain": [
              "39500"
            ]
          },
          "metadata": {},
          "execution_count": 6
        }
      ]
    },
    {
      "cell_type": "code",
      "source": [
        "help(subtract)"
      ],
      "metadata": {
        "colab": {
          "base_uri": "https://localhost:8080/"
        },
        "id": "jtOkhn-H66nB",
        "outputId": "ca24d7c3-ba71-4ddf-dc2a-d9cc348e86a1"
      },
      "execution_count": null,
      "outputs": [
        {
          "output_type": "stream",
          "name": "stdout",
          "text": [
            "Help on function subtract in module __main__:\n",
            "\n",
            "subtract(num1, num2)\n",
            "    This function subtracts the num2 from num1 and returns the answer.\n",
            "    Example\n",
            "    subtract(3, 2)  This will calculate 3-2 and return the answer 1\n",
            "    The parameters must be numerical\n",
            "\n"
          ]
        }
      ]
    },
    {
      "cell_type": "code",
      "source": [
        "help(print)"
      ],
      "metadata": {
        "colab": {
          "base_uri": "https://localhost:8080/"
        },
        "id": "-VCnfGRS7Qqe",
        "outputId": "2ed39ba1-35b7-4ad0-99ec-28be4658f833"
      },
      "execution_count": null,
      "outputs": [
        {
          "output_type": "stream",
          "name": "stdout",
          "text": [
            "Help on built-in function print in module builtins:\n",
            "\n",
            "print(*args, sep=' ', end='\\n', file=None, flush=False)\n",
            "    Prints the values to a stream, or to sys.stdout by default.\n",
            "    \n",
            "    sep\n",
            "      string inserted between values, default a space.\n",
            "    end\n",
            "      string appended after the last value, default a newline.\n",
            "    file\n",
            "      a file-like object (stream); defaults to the current sys.stdout.\n",
            "    flush\n",
            "      whether to forcibly flush the stream.\n",
            "\n"
          ]
        }
      ]
    },
    {
      "cell_type": "code",
      "source": [
        "help(function_name)"
      ],
      "metadata": {
        "colab": {
          "base_uri": "https://localhost:8080/"
        },
        "id": "AafDlGrDyl4p",
        "outputId": "728484fb-1c8a-48ec-f0b8-82eecd8c6910"
      },
      "execution_count": null,
      "outputs": [
        {
          "output_type": "stream",
          "name": "stdout",
          "text": [
            "Help on function function_name in module __main__:\n",
            "\n",
            "function_name()\n",
            "    This is a docstring explaining what the function does.\n",
            "\n"
          ]
        }
      ]
    },
    {
      "cell_type": "code",
      "source": [
        "# Function to get user input\n",
        "def get_salary_details():\n",
        "    gross_salary = float(input(\"Enter your gross salary: \"))\n",
        "    deductions = float(input(\"Enter total deductions (taxes & others): \"))\n",
        "    return gross_salary, deductions\n",
        "\n",
        "# Function to calculate take-home salary\n",
        "def calculate_take_home_salary(gross_salary, deductions):\n",
        "    return gross_salary - deductions\n",
        "\n",
        "# Function to display the result\n",
        "def display_salary(take_home_salary):\n",
        "    print(f\"Your take-home salary is: ${take_home_salary:.2f}\")\n",
        "\n",
        "# Main program\n",
        "def main():\n",
        "    gross_salary, deductions = get_salary_details()\n",
        "    take_home_salary = calculate_take_home_salary(gross_salary, deductions)\n",
        "    display_salary(take_home_salary)\n",
        "\n",
        "# Run the program\n",
        "if __name__ == \"__main__\":\n",
        "    main()"
      ],
      "metadata": {
        "colab": {
          "base_uri": "https://localhost:8080/"
        },
        "id": "aAjPNlj90V5R",
        "outputId": "cc04171a-2e45-4bd9-d44d-c74267edd25c"
      },
      "execution_count": null,
      "outputs": [
        {
          "output_type": "stream",
          "name": "stdout",
          "text": [
            "Enter your gross salary: 1222\n",
            "Enter total deductions (taxes & others): 2333\n",
            "Your take-home salary is: $-1111.00\n"
          ]
        }
      ]
    },
    {
      "cell_type": "code",
      "source": [
        "gross_salary = float(input(\"Enter your gross salary: \"))\n",
        "tax_amount = float(input(\"Enter the tax amount: \"))\n",
        "other_deductions = float(input(\"Enter other deductions (if any, else enter 0): \"))\n",
        "\n",
        "net_salary = gross_salary - tax_amount - other_deductions\n",
        "\n",
        "\n",
        "print(f\"Your net salary after deductions is: ${net_salary:.2f}\")\n",
        "if net_salary >= 3000:\n",
        "  print(True)\n",
        "else:\n",
        "  print(False)"
      ],
      "metadata": {
        "colab": {
          "base_uri": "https://localhost:8080/"
        },
        "id": "tZy9RkDZ2JA-",
        "outputId": "b4531bff-bb9c-4a66-97fb-a1d0cec26b70"
      },
      "execution_count": null,
      "outputs": [
        {
          "output_type": "stream",
          "name": "stdout",
          "text": [
            "Enter your gross salary: 100\n",
            "Enter the tax amount: 2\n",
            "Enter other deductions (if any, else enter 0): 1\n",
            "Your net salary after deductions is: $97.00\n",
            "False\n"
          ]
        }
      ]
    },
    {
      "cell_type": "code",
      "source": [
        "print(f\"In 10 years you will be {2035-dob} years old. And you were born in {placeofbirth}\""
      ],
      "metadata": {
        "id": "XjVG27U7C3UI",
        "colab": {
          "base_uri": "https://localhost:8080/",
          "height": 141
        },
        "outputId": "368d8fe5-a6ec-4254-a664-0c2e6dd01723"
      },
      "execution_count": null,
      "outputs": [
        {
          "output_type": "error",
          "ename": "SyntaxError",
          "evalue": "incomplete input (<ipython-input-12-bf2e28988eda>, line 1)",
          "traceback": [
            "\u001b[0;36m  File \u001b[0;32m\"<ipython-input-12-bf2e28988eda>\"\u001b[0;36m, line \u001b[0;32m1\u001b[0m\n\u001b[0;31m    print(f\"In 10 years you will be {2035-dob} years old. And you were born in {placeofbirth}\"\u001b[0m\n\u001b[0m                                                                                              ^\u001b[0m\n\u001b[0;31mSyntaxError\u001b[0m\u001b[0;31m:\u001b[0m incomplete input\n"
          ]
        }
      ]
    },
    {
      "cell_type": "code",
      "source": [
        "print(5 > 3)    # True\n",
        "print(10 == 5)  # False\n",
        "print(7 <= 7)   # True\n"
      ],
      "metadata": {
        "id": "E9kBstVmIOQI"
      },
      "execution_count": null,
      "outputs": []
    },
    {
      "cell_type": "code",
      "source": [
        "a = True    # a has the datatype bool\n",
        "b = False   # b also has the datatype bool\n",
        "print(type(a))\n",
        "print(type(b))\n",
        "print(a and b)  # False\n",
        "print(a or b)   # True\n",
        "print(not a)    # False\n",
        "\n",
        "a = 16\n",
        "print(type(a) )"
      ],
      "metadata": {
        "id": "UCM7o7f6IdZ2"
      },
      "execution_count": null,
      "outputs": []
    },
    {
      "cell_type": "code",
      "source": [
        "print(mydata)\n"
      ],
      "metadata": {
        "colab": {
          "base_uri": "https://localhost:8080/",
          "height": 141
        },
        "id": "4up3QftiBXUv",
        "outputId": "1e8bf10b-9119-486e-e67b-731a0000231e"
      },
      "execution_count": null,
      "outputs": [
        {
          "output_type": "error",
          "ename": "NameError",
          "evalue": "name 'mydata' is not defined",
          "traceback": [
            "\u001b[0;31m---------------------------------------------------------------------------\u001b[0m",
            "\u001b[0;31mNameError\u001b[0m                                 Traceback (most recent call last)",
            "\u001b[0;32m<ipython-input-13-1c5de0ab0f9d>\u001b[0m in \u001b[0;36m<cell line: 0>\u001b[0;34m()\u001b[0m\n\u001b[0;32m----> 1\u001b[0;31m \u001b[0mprint\u001b[0m\u001b[0;34m(\u001b[0m\u001b[0mmydata\u001b[0m\u001b[0;34m)\u001b[0m\u001b[0;34m\u001b[0m\u001b[0;34m\u001b[0m\u001b[0m\n\u001b[0m",
            "\u001b[0;31mNameError\u001b[0m: name 'mydata' is not defined"
          ]
        }
      ]
    },
    {
      "cell_type": "code",
      "source": [
        "import sample_data.dit109\n",
        "print(mydata)"
      ],
      "metadata": {
        "colab": {
          "base_uri": "https://localhost:8080/",
          "height": 627
        },
        "id": "_875hlFqCCYs",
        "outputId": "4bbb7dc3-7c89-4138-e8b9-8fccbb8a7015"
      },
      "execution_count": null,
      "outputs": [
        {
          "output_type": "stream",
          "name": "stdout",
          "text": [
            "      longitude  latitude  housing_median_age  total_rooms  total_bedrooms  \\\n",
            "0       -122.05     37.37                27.0       3885.0           661.0   \n",
            "1       -118.30     34.26                43.0       1510.0           310.0   \n",
            "2       -117.81     33.78                27.0       3589.0           507.0   \n",
            "3       -118.36     33.82                28.0         67.0            15.0   \n",
            "4       -119.67     36.33                19.0       1241.0           244.0   \n",
            "...         ...       ...                 ...          ...             ...   \n",
            "2995    -119.86     34.42                23.0       1450.0           642.0   \n",
            "2996    -118.14     34.06                27.0       5257.0          1082.0   \n",
            "2997    -119.70     36.30                10.0        956.0           201.0   \n",
            "2998    -117.12     34.10                40.0         96.0            14.0   \n",
            "2999    -119.63     34.42                42.0       1765.0           263.0   \n",
            "\n",
            "      population  households  median_income  median_house_value  \n",
            "0         1537.0       606.0         6.6085            344700.0  \n",
            "1          809.0       277.0         3.5990            176500.0  \n",
            "2         1484.0       495.0         5.7934            270500.0  \n",
            "3           49.0        11.0         6.1359            330000.0  \n",
            "4          850.0       237.0         2.9375             81700.0  \n",
            "...          ...         ...            ...                 ...  \n",
            "2995      1258.0       607.0         1.1790            225000.0  \n",
            "2996      3496.0      1036.0         3.3906            237200.0  \n",
            "2997       693.0       220.0         2.2895             62000.0  \n",
            "2998        46.0        14.0         3.2708            162500.0  \n",
            "2999       753.0       260.0         8.5608            500001.0  \n",
            "\n",
            "[3000 rows x 9 columns]\n"
          ]
        },
        {
          "output_type": "error",
          "ename": "NameError",
          "evalue": "name 'mydata' is not defined",
          "traceback": [
            "\u001b[0;31m---------------------------------------------------------------------------\u001b[0m",
            "\u001b[0;31mNameError\u001b[0m                                 Traceback (most recent call last)",
            "\u001b[0;32m<ipython-input-14-4c8b389daa21>\u001b[0m in \u001b[0;36m<cell line: 0>\u001b[0;34m()\u001b[0m\n\u001b[1;32m      1\u001b[0m \u001b[0;32mimport\u001b[0m \u001b[0msample_data\u001b[0m\u001b[0;34m.\u001b[0m\u001b[0mdit109\u001b[0m\u001b[0;34m\u001b[0m\u001b[0;34m\u001b[0m\u001b[0m\n\u001b[0;32m----> 2\u001b[0;31m \u001b[0mprint\u001b[0m\u001b[0;34m(\u001b[0m\u001b[0mmydata\u001b[0m\u001b[0;34m)\u001b[0m\u001b[0;34m\u001b[0m\u001b[0;34m\u001b[0m\u001b[0m\n\u001b[0m",
            "\u001b[0;31mNameError\u001b[0m: name 'mydata' is not defined"
          ]
        }
      ]
    },
    {
      "cell_type": "code",
      "source": [
        "x = 10 # Global variable\n",
        "\n",
        "def patience() :\n",
        "\n",
        "  x = 5 # Local variable ( only inside this function )\n",
        "  y=100\n",
        "\n",
        "  print (\" Inside function :\", x )\n",
        "  return y\n",
        "\n",
        "\n",
        "patience()\n",
        "\n",
        "print (\" Outside function :\", x )\n",
        "print(patience())"
      ],
      "metadata": {
        "colab": {
          "base_uri": "https://localhost:8080/"
        },
        "id": "UNFXkAHhCwz3",
        "outputId": "515b4993-1b3c-4426-d185-5ca3c5dd5018"
      },
      "execution_count": null,
      "outputs": [
        {
          "output_type": "stream",
          "name": "stdout",
          "text": [
            " Inside function : 5\n",
            " Outside function : 10\n",
            " Inside function : 5\n",
            "100\n"
          ]
        }
      ]
    },
    {
      "cell_type": "code",
      "source": [
        "import math\n",
        "\n",
        "import cmath # Handles complex numbers\n",
        "\n",
        "\n",
        "print ( math.sqrt (16) ) # Uses math module\n",
        "\n",
        "print ( cmath.sqrt ( -16) ) # Uses cmath module"
      ],
      "metadata": {
        "colab": {
          "base_uri": "https://localhost:8080/"
        },
        "id": "n3MQsDxNEK7_",
        "outputId": "b97a3ca9-e733-404c-cc40-62fe026d550c"
      },
      "execution_count": null,
      "outputs": [
        {
          "output_type": "stream",
          "name": "stdout",
          "text": [
            "4.0\n",
            "4j\n"
          ]
        }
      ]
    },
    {
      "cell_type": "code",
      "source": [
        "#Branches\n",
        "#Write a program to output the grades of students based on their total mark.\n",
        "for student in range(1):\n",
        "  # 1. Input mark\n",
        "  name = input(\"Enter the name of the Student: \")\n",
        "  mark = float(input(\"Enter the total mark of the Student: \"))\n",
        "\n",
        "\n",
        "  # 2. Process - if the student had 70 and above is A, 60-69 B, 50-59, C,40-49, D, below 40 F\n",
        "  if mark >= 70:\n",
        "    grade = \"A\"\n",
        "  elif mark >= 60:\n",
        "    grade = \"B\"\n",
        "  elif mark >= 50:\n",
        "    grade = \"C\"\n",
        "  elif mark >= 40:\n",
        "    grade = \"D\"\n",
        "  else:\n",
        "    grade = \"F\"\n",
        "\n",
        "  print(f\"{name} got {grade}\")\n"
      ],
      "metadata": {
        "id": "mkmaYeimFBry"
      },
      "execution_count": null,
      "outputs": []
    },
    {
      "cell_type": "code",
      "source": [],
      "metadata": {
        "id": "jTqdReLQND6U"
      },
      "execution_count": 4,
      "outputs": []
    }
  ]
}